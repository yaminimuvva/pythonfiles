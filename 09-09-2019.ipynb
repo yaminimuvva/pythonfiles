{
 "cells": [
  {
   "cell_type": "markdown",
   "metadata": {},
   "source": [
    "## three highest number among the list"
   ]
  },
  {
   "cell_type": "markdown",
   "metadata": {},
   "source": [
    "n=[10,40,60,80]\n",
    "n.sort()\n",
    "n\n",
    "n.reverse()\n",
    "n\n",
    "print(n[0:3])"
   ]
  },
  {
   "cell_type": "markdown",
   "metadata": {},
   "source": [
    "## repeated number"
   ]
  },
  {
   "cell_type": "code",
   "execution_count": 14,
   "metadata": {},
   "outputs": [
    {
     "name": "stdout",
     "output_type": "stream",
     "text": [
      "{10: 3, 40: 1, 30: 1, 20: 1}\n"
     ]
    }
   ],
   "source": [
    "n=[10,40,10,30,10,20]\n",
    "v={x:n.count(x) for x in n}\n",
    "print(v)"
   ]
  },
  {
   "cell_type": "markdown",
   "metadata": {},
   "source": [
    "## dictionaries"
   ]
  },
  {
   "cell_type": "code",
   "execution_count": 2,
   "metadata": {},
   "outputs": [
    {
     "name": "stdout",
     "output_type": "stream",
     "text": [
      "{1: 2, 2: 3, 3: 4, 4: 5}\n"
     ]
    }
   ],
   "source": [
    "d1={1:2,2:3,3:4,4:5}\n",
    "print(d1)"
   ]
  },
  {
   "cell_type": "code",
   "execution_count": 4,
   "metadata": {},
   "outputs": [
    {
     "data": {
      "text/plain": [
       "{'name': 'yamini'}"
      ]
     },
     "execution_count": 4,
     "metadata": {},
     "output_type": "execute_result"
    }
   ],
   "source": [
    "n1=\"yamini\"\n",
    "d2={\"name\":n1}\n",
    "d2"
   ]
  },
  {
   "cell_type": "markdown",
   "metadata": {},
   "source": [
    "## frequency of a  number"
   ]
  },
  {
   "cell_type": "code",
   "execution_count": 7,
   "metadata": {},
   "outputs": [
    {
     "name": "stdout",
     "output_type": "stream",
     "text": [
      "{1: 2, 2: 3, 3: 3, 4: 1, 5: 2, 6: 2, 7: 2, 8: 1, 9: 1, 0: 1}\n"
     ]
    }
   ],
   "source": [
    "n=[1,2,3,1,4,3,5,6,2,7,8,6,9,7,2,0,3,5]\n",
    "d={}\n",
    "for i in n:\n",
    "    d[i]=n.count(i)\n",
    "print(d)"
   ]
  },
  {
   "cell_type": "code",
   "execution_count": 19,
   "metadata": {},
   "outputs": [
    {
     "name": "stdout",
     "output_type": "stream",
     "text": [
      "4 -> 5\n",
      "3 -> 5\n"
     ]
    }
   ],
   "source": [
    "n=[1,2,4,3,2,4,8,3,8,5,4,1,3,9,4,4,3,5,3]\n",
    "d={}\n",
    "for i in n:\n",
    "    d[i]=n.count(i)\n",
    "m=max(d.values())\n",
    "for k in d:\n",
    "    if d[k]==m:\n",
    "        print(k,\"->\",m)\n",
    "        \n"
   ]
  },
  {
   "cell_type": "markdown",
   "metadata": {},
   "source": [
    "## strings"
   ]
  },
  {
   "cell_type": "code",
   "execution_count": 23,
   "metadata": {},
   "outputs": [
    {
     "name": "stdout",
     "output_type": "stream",
     "text": [
      "she\n",
      "is\n",
      "beautiful\n"
     ]
    }
   ],
   "source": [
    "n=\"she is beautiful\"\n",
    "r=n.split()\n",
    "for i in r:\n",
    "    print(i)"
   ]
  },
  {
   "cell_type": "code",
   "execution_count": 25,
   "metadata": {},
   "outputs": [
    {
     "name": "stdout",
     "output_type": "stream",
     "text": [
      "she is beautiful\n",
      "and looking pretty\n"
     ]
    }
   ],
   "source": [
    "n=\"she is beautiful,and looking pretty\"\n",
    "r=n.split(\",\")\n",
    "for i in r:\n",
    "    print(i)"
   ]
  },
  {
   "cell_type": "code",
   "execution_count": null,
   "metadata": {},
   "outputs": [],
   "source": []
  }
 ],
 "metadata": {
  "kernelspec": {
   "display_name": "Python 3",
   "language": "python",
   "name": "python3"
  },
  "language_info": {
   "codemirror_mode": {
    "name": "ipython",
    "version": 3
   },
   "file_extension": ".py",
   "mimetype": "text/x-python",
   "name": "python",
   "nbconvert_exporter": "python",
   "pygments_lexer": "ipython3",
   "version": "3.7.3"
  }
 },
 "nbformat": 4,
 "nbformat_minor": 2
}
