{
 "cells": [
  {
   "cell_type": "code",
   "execution_count": 7,
   "metadata": {},
   "outputs": [
    {
     "name": "stdout",
     "output_type": "stream",
     "text": [
      "gud mrng ma\n",
      "\n",
      "84\n"
     ]
    }
   ],
   "source": [
    "filepath=\"./Files/yamini.txt\"\n",
    "with open(filepath,'r') as f:\n",
    "    a=f.readline()\n",
    "    print(a)\n",
    "    b=f.read()\n",
    "    print(len(b))\n",
    "    "
   ]
  },
  {
   "cell_type": "code",
   "execution_count": 9,
   "metadata": {
    "scrolled": false
   },
   "outputs": [
    {
     "name": "stdout",
     "output_type": "stream",
     "text": [
      "gud mrng ma\n",
      "i'm from guntur\n",
      "my name is yaminimy name is sweetymy name is barbiemy name is barbie\n",
      "\n"
     ]
    }
   ],
   "source": [
    "filepath=\"./Files/yamini.txt\"\n",
    "with open(filepath,'r') as f:\n",
    "    lines=f.read()\n",
    "    print(lines)\n",
    "    line=f.readline()\n",
    "    print(line)\n"
   ]
  },
  {
   "cell_type": "code",
   "execution_count": 10,
   "metadata": {},
   "outputs": [],
   "source": [
    "filepath=\"./Files/test.txt\"\n",
    "with open(filepath,'w') as f:\n",
    "    f.write(\"yathi\")\n",
    "filepath=\"./Files/test1.txt\"\n",
    "with open(filepath,'w') as f:\n",
    "    f.write(\"likhi\")"
   ]
  },
  {
   "cell_type": "markdown",
   "metadata": {},
   "source": [
    "## finding time interval"
   ]
  },
  {
   "cell_type": "code",
   "execution_count": null,
   "metadata": {},
   "outputs": [],
   "source": [
    "N=int(input(\"number of test cases\"))\n",
    "for i in range(t):\n",
    "    s=input().split()\n",
    "    sh=int(s[0])\n",
    "    sm=int(s[1])\n",
    "    eh=int(s[2])\n",
    "    em=int(s[3])\n",
    "    if ((eh and sh<=24)and(em and sm<=60)):\n",
    "        if sh==eh:\n",
    "            a=es-sh\n",
    "            b=abs(em-sm)\n",
    "            print(a,b)\n",
    "        elif "
   ]
  },
  {
   "cell_type": "code",
   "execution_count": null,
   "metadata": {},
   "outputs": [],
   "source": []
  },
  {
   "cell_type": "code",
   "execution_count": null,
   "metadata": {},
   "outputs": [],
   "source": []
  }
 ],
 "metadata": {
  "kernelspec": {
   "display_name": "Python 3",
   "language": "python",
   "name": "python3"
  },
  "language_info": {
   "codemirror_mode": {
    "name": "ipython",
    "version": 3
   },
   "file_extension": ".py",
   "mimetype": "text/x-python",
   "name": "python",
   "nbconvert_exporter": "python",
   "pygments_lexer": "ipython3",
   "version": "3.7.3"
  }
 },
 "nbformat": 4,
 "nbformat_minor": 2
}
